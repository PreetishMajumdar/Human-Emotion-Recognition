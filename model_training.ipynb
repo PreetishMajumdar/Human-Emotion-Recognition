{
 "cells": [
  {
   "cell_type": "code",
   "execution_count": 4,
   "id": "5e129e4a",
   "metadata": {},
   "outputs": [
    {
     "name": "stdout",
     "output_type": "stream",
     "text": [
      "Collecting kagglehub\n",
      "  Downloading kagglehub-0.3.12-py3-none-any.whl.metadata (38 kB)\n",
      "Requirement already satisfied: scikit-learn in d:\\anaconda installation\\lib\\site-packages (1.5.1)\n",
      "Requirement already satisfied: packaging in d:\\anaconda installation\\lib\\site-packages (from kagglehub) (24.1)\n",
      "Requirement already satisfied: pyyaml in d:\\anaconda installation\\lib\\site-packages (from kagglehub) (6.0.1)\n",
      "Requirement already satisfied: requests in d:\\anaconda installation\\lib\\site-packages (from kagglehub) (2.32.3)\n",
      "Requirement already satisfied: tqdm in d:\\anaconda installation\\lib\\site-packages (from kagglehub) (4.66.5)\n",
      "Requirement already satisfied: numpy>=1.19.5 in d:\\anaconda installation\\lib\\site-packages (from scikit-learn) (1.26.4)\n",
      "Requirement already satisfied: scipy>=1.6.0 in d:\\anaconda installation\\lib\\site-packages (from scikit-learn) (1.13.1)\n",
      "Requirement already satisfied: joblib>=1.2.0 in d:\\anaconda installation\\lib\\site-packages (from scikit-learn) (1.4.2)\n",
      "Requirement already satisfied: threadpoolctl>=3.1.0 in d:\\anaconda installation\\lib\\site-packages (from scikit-learn) (3.5.0)\n",
      "Requirement already satisfied: charset-normalizer<4,>=2 in d:\\anaconda installation\\lib\\site-packages (from requests->kagglehub) (3.3.2)\n",
      "Requirement already satisfied: idna<4,>=2.5 in d:\\anaconda installation\\lib\\site-packages (from requests->kagglehub) (3.7)\n",
      "Requirement already satisfied: urllib3<3,>=1.21.1 in d:\\anaconda installation\\lib\\site-packages (from requests->kagglehub) (2.2.3)\n",
      "Requirement already satisfied: certifi>=2017.4.17 in d:\\anaconda installation\\lib\\site-packages (from requests->kagglehub) (2025.4.26)\n",
      "Requirement already satisfied: colorama in d:\\anaconda installation\\lib\\site-packages (from tqdm->kagglehub) (0.4.6)\n",
      "Downloading kagglehub-0.3.12-py3-none-any.whl (67 kB)\n",
      "Installing collected packages: kagglehub\n",
      "Successfully installed kagglehub-0.3.12\n",
      "Note: you may need to restart the kernel to use updated packages.\n"
     ]
    }
   ],
   "source": [
    "pip install kagglehub scikit-learn"
   ]
  },
  {
   "cell_type": "code",
   "execution_count": 36,
   "id": "f203d51e",
   "metadata": {},
   "outputs": [],
   "source": [
    "import os\n",
    "import shutil\n",
    "import kagglehub\n",
    "from pathlib import Path\n",
    "from ultralytics import YOLO, SETTINGS\n",
    "from sklearn.model_selection import train_test_split\n",
    "from dotenv import load_dotenv"
   ]
  },
  {
   "cell_type": "code",
   "execution_count": 37,
   "id": "1b4306a6",
   "metadata": {},
   "outputs": [
    {
     "data": {
      "text/plain": [
       "True"
      ]
     },
     "execution_count": 37,
     "metadata": {},
     "output_type": "execute_result"
    }
   ],
   "source": [
    "load_dotenv()"
   ]
  },
  {
   "cell_type": "code",
   "execution_count": 38,
   "id": "d9c958d1",
   "metadata": {},
   "outputs": [],
   "source": [
    "# Configuration\n",
    "DATASET_NAME = \"sanidhyak/human-face-emotions\"\n",
    "CLASSES = [\"happy\", \"sad\", \"angry\"]\n",
    "IMG_SIZE = 640\n",
    "BATCH_SIZE = 16\n",
    "EPOCHS = 100"
   ]
  },
  {
   "cell_type": "code",
   "execution_count": 39,
   "id": "33a52982",
   "metadata": {},
   "outputs": [],
   "source": [
    "# 2. Kaggle Authentication Setup\n",
    "os.environ[\"KAGGLE_USERNAME\"] = os.getenv(\"KAGGLE_USERNAME\")\n",
    "os.environ[\"KAGGLE_KEY\"] = os.getenv(\"KAGGLE_KEY\")"
   ]
  },
  {
   "cell_type": "code",
   "execution_count": 40,
   "id": "5ddf1875",
   "metadata": {},
   "outputs": [],
   "source": [
    "def prepare_dataset():\n",
    "    try:\n",
    "        dataset_path = Path(kagglehub.dataset_download(DATASET_NAME))\n",
    "        print(f\"Dataset downloaded to: {dataset_path}\")\n",
    "\n",
    "        # The 'data' directory contains class folders\n",
    "        data_dir = dataset_path / \"data\"\n",
    "        if not data_dir.exists():\n",
    "            raise FileNotFoundError(f\"'data' folder not found in {dataset_path}\")\n",
    "\n",
    "        base_path = Path(\"datasets/emotion\").resolve()\n",
    "        (base_path/\"images/train\").mkdir(parents=True, exist_ok=True)\n",
    "        (base_path/\"images/val\").mkdir(parents=True, exist_ok=True)\n",
    "        (base_path/\"labels/train\").mkdir(parents=True, exist_ok=True)\n",
    "        (base_path/\"labels/val\").mkdir(parents=True, exist_ok=True)\n",
    "\n",
    "        total_images = 0\n",
    "        valid_classes = {c.lower(): i for i, c in enumerate(CLASSES)}\n",
    "\n",
    "        for class_dir in data_dir.iterdir():\n",
    "            if not class_dir.is_dir():\n",
    "                continue\n",
    "            class_name = class_dir.name.lower()\n",
    "            if class_name not in valid_classes:\n",
    "                print(f\"Skipping unexpected directory: {class_dir.name}\")\n",
    "                continue\n",
    "\n",
    "            images = [img for img in class_dir.iterdir() if img.suffix.lower() in [\".jpg\", \".jpeg\", \".png\"] and img.is_file()]\n",
    "            if not images:\n",
    "                print(f\"No images found in {class_dir}\")\n",
    "                continue\n",
    "\n",
    "            train_imgs, val_imgs = train_test_split(\n",
    "                images, \n",
    "                test_size=0.2, \n",
    "                random_state=42,\n",
    "                shuffle=True\n",
    "            )\n",
    "\n",
    "            class_id = valid_classes[class_name]\n",
    "            copied = 0\n",
    "\n",
    "            for split, imgs in [(\"train\", train_imgs), (\"val\", val_imgs)]:\n",
    "                for img in imgs:\n",
    "                    dest_img = base_path/\"images\"/split/img.name\n",
    "                    dest_label = base_path/\"labels\"/split/f\"{img.stem}.txt\"\n",
    "                    shutil.copy(img, dest_img)\n",
    "                    with open(dest_label, \"w\") as f:\n",
    "                        f.write(f\"{class_id} 0.5 0.5 1.0 1.0\")\n",
    "                    copied += 1\n",
    "\n",
    "            total_images += copied\n",
    "            print(f\"Processed {copied} images from {class_dir.name}\")\n",
    "\n",
    "        if total_images == 0:\n",
    "            raise RuntimeError(\"No valid images found after processing\")\n",
    "\n",
    "        yaml_content = f\"\"\"path: {base_path}\n",
    "train: images/train\n",
    "val: images/val\n",
    "names: {CLASSES}\n",
    "\"\"\"\n",
    "        yaml_path = base_path/\"dataset.yaml\"\n",
    "        yaml_path.write_text(yaml_content)\n",
    "        print(f\"Dataset prepared successfully with {total_images} images\")\n",
    "        return True\n",
    "\n",
    "    except Exception as e:\n",
    "        print(f\"Dataset preparation failed: {str(e)}\")\n",
    "        return False"
   ]
  },
  {
   "cell_type": "code",
   "execution_count": 45,
   "id": "ef7b884b",
   "metadata": {},
   "outputs": [],
   "source": [
    "def train_model():\n",
    "    try:\n",
    "        # 1. Configure Ultralytics settings\n",
    "        SETTINGS.update({\n",
    "            'datasets_dir': str(Path.cwd()),\n",
    "            'weights_dir': str(Path.cwd()/\"models\"),\n",
    "            'runs_dir': str(Path.cwd()/\"results\")\n",
    "        })\n",
    "        \n",
    "        # 2. Load model with verification\n",
    "        weights_path = Path('yolov8n.pt').resolve()\n",
    "        if not weights_path.exists():\n",
    "            raise FileNotFoundError(f\"Pretrained weights not found at {weights_path}\")\n",
    "            \n",
    "        model = YOLO(str(weights_path))  # Convert to string for YOLO compatibility\n",
    "        \n",
    "        # 3. Get absolute path to dataset.yaml\n",
    "        yaml_path = Path(\"datasets/emotion/dataset.yaml\").resolve()\n",
    "        if not yaml_path.exists():\n",
    "            raise FileNotFoundError(f\"Dataset config not found at {yaml_path}\")\n",
    "\n",
    "        # 4. Start training with full diagnostics\n",
    "        results = model.train(\n",
    "            data=str(yaml_path),\n",
    "            epochs=30,             # ↓ Lower epochs\n",
    "            imgsz=416,             # ↓ Smaller image size\n",
    "            batch=BATCH_SIZE,\n",
    "            name='emotion_yolov8n',\n",
    "            exist_ok=True,\n",
    "            pretrained=True,\n",
    "            optimizer='AdamW',\n",
    "            lr0=0.001,\n",
    "            augment=False,         # ↓ Faster training (turn on later for final training)\n",
    "            verbose=True,\n",
    "            plots=False\n",
    "        )\n",
    "        \n",
    "        # 5. Export and verify model\n",
    "        export_path = model.export(format='onnx')\n",
    "        if not Path(export_path).exists():\n",
    "            raise RuntimeError(f\"Model export failed at {export_path}\")\n",
    "            \n",
    "        return True\n",
    "\n",
    "    except Exception as e:\n",
    "        print(f\"Training failed: {str(e)}\")\n",
    "        return False"
   ]
  },
  {
   "cell_type": "code",
   "execution_count": null,
   "id": "b07d4712",
   "metadata": {},
   "outputs": [
    {
     "name": "stdout",
     "output_type": "stream",
     "text": [
      "Dataset downloaded to: C:\\Users\\Preetish\\.cache\\kagglehub\\datasets\\sanidhyak\\human-face-emotions\\versions\\1\n",
      "Processed 86 images from Angry\n",
      "Processed 100 images from Happy\n",
      "Processed 78 images from Sad\n",
      "Dataset prepared successfully with 264 images\n",
      "\n",
      "Starting training process...\n",
      "New https://pypi.org/project/ultralytics/8.3.142 available  Update with 'pip install -U ultralytics'\n",
      "Ultralytics 8.3.138  Python-3.12.7 torch-2.7.0+cpu CPU (Intel Core(TM) i5-1035G1 1.00GHz)\n",
      "\u001b[34m\u001b[1mengine\\trainer: \u001b[0magnostic_nms=False, amp=True, augment=False, auto_augment=randaugment, batch=16, bgr=0.0, box=7.5, cache=False, cfg=None, classes=None, close_mosaic=10, cls=0.5, conf=None, copy_paste=0.0, copy_paste_mode=flip, cos_lr=False, cutmix=0.0, data=D:\\VS Code Projects\\Human-Emotion-Recognition\\datasets\\emotion\\dataset.yaml, degrees=0.0, deterministic=True, device=cpu, dfl=1.5, dnn=False, dropout=0.0, dynamic=False, embed=None, epochs=30, erasing=0.4, exist_ok=True, fliplr=0.5, flipud=0.0, format=torchscript, fraction=1.0, freeze=None, half=False, hsv_h=0.015, hsv_s=0.7, hsv_v=0.4, imgsz=416, int8=False, iou=0.7, keras=False, kobj=1.0, line_width=None, lr0=0.001, lrf=0.01, mask_ratio=4, max_det=300, mixup=0.0, mode=train, model=D:\\VS Code Projects\\Human-Emotion-Recognition\\yolov8n.pt, momentum=0.937, mosaic=1.0, multi_scale=False, name=emotion_yolov8n, nbs=64, nms=False, opset=None, optimize=False, optimizer=AdamW, overlap_mask=True, patience=100, perspective=0.0, plots=False, pose=12.0, pretrained=True, profile=False, project=None, rect=False, resume=False, retina_masks=False, save=True, save_conf=False, save_crop=False, save_dir=runs\\detect\\emotion_yolov8n, save_frames=False, save_json=False, save_period=-1, save_txt=False, scale=0.5, seed=0, shear=0.0, show=False, show_boxes=True, show_conf=True, show_labels=True, simplify=True, single_cls=False, source=None, split=val, stream_buffer=False, task=detect, time=None, tracker=botsort.yaml, translate=0.1, val=True, verbose=True, vid_stride=1, visualize=False, warmup_bias_lr=0.1, warmup_epochs=3.0, warmup_momentum=0.8, weight_decay=0.0005, workers=8, workspace=None\n",
      "Overriding model.yaml nc=80 with nc=3\n",
      "\n",
      "                   from  n    params  module                                       arguments                     \n",
      "  0                  -1  1       464  ultralytics.nn.modules.conv.Conv             [3, 16, 3, 2]                 \n",
      "  1                  -1  1      4672  ultralytics.nn.modules.conv.Conv             [16, 32, 3, 2]                \n",
      "  2                  -1  1      7360  ultralytics.nn.modules.block.C2f             [32, 32, 1, True]             \n",
      "  3                  -1  1     18560  ultralytics.nn.modules.conv.Conv             [32, 64, 3, 2]                \n",
      "  4                  -1  2     49664  ultralytics.nn.modules.block.C2f             [64, 64, 2, True]             \n",
      "  5                  -1  1     73984  ultralytics.nn.modules.conv.Conv             [64, 128, 3, 2]               \n",
      "  6                  -1  2    197632  ultralytics.nn.modules.block.C2f             [128, 128, 2, True]           \n",
      "  7                  -1  1    295424  ultralytics.nn.modules.conv.Conv             [128, 256, 3, 2]              \n",
      "  8                  -1  1    460288  ultralytics.nn.modules.block.C2f             [256, 256, 1, True]           \n",
      "  9                  -1  1    164608  ultralytics.nn.modules.block.SPPF            [256, 256, 5]                 \n",
      " 10                  -1  1         0  torch.nn.modules.upsampling.Upsample         [None, 2, 'nearest']          \n",
      " 11             [-1, 6]  1         0  ultralytics.nn.modules.conv.Concat           [1]                           \n",
      " 12                  -1  1    148224  ultralytics.nn.modules.block.C2f             [384, 128, 1]                 \n",
      " 13                  -1  1         0  torch.nn.modules.upsampling.Upsample         [None, 2, 'nearest']          \n",
      " 14             [-1, 4]  1         0  ultralytics.nn.modules.conv.Concat           [1]                           \n",
      " 15                  -1  1     37248  ultralytics.nn.modules.block.C2f             [192, 64, 1]                  \n",
      " 16                  -1  1     36992  ultralytics.nn.modules.conv.Conv             [64, 64, 3, 2]                \n",
      " 17            [-1, 12]  1         0  ultralytics.nn.modules.conv.Concat           [1]                           \n",
      " 18                  -1  1    123648  ultralytics.nn.modules.block.C2f             [192, 128, 1]                 \n",
      " 19                  -1  1    147712  ultralytics.nn.modules.conv.Conv             [128, 128, 3, 2]              \n",
      " 20             [-1, 9]  1         0  ultralytics.nn.modules.conv.Concat           [1]                           \n",
      " 21                  -1  1    493056  ultralytics.nn.modules.block.C2f             [384, 256, 1]                 \n",
      " 22        [15, 18, 21]  1    751897  ultralytics.nn.modules.head.Detect           [3, [64, 128, 256]]           \n",
      "Model summary: 129 layers, 3,011,433 parameters, 3,011,417 gradients, 8.2 GFLOPs\n",
      "\n",
      "Transferred 319/355 items from pretrained weights\n",
      "Freezing layer 'model.22.dfl.conv.weight'\n",
      "\u001b[34m\u001b[1mtrain: \u001b[0mFast image access  (ping: 0.10.0 ms, read: 44.049.0 MB/s, size: 704.8 KB)\n"
     ]
    },
    {
     "name": "stderr",
     "output_type": "stream",
     "text": [
      "\u001b[34m\u001b[1mtrain: \u001b[0mScanning D:\\VS Code Projects\\Human-Emotion-Recognition\\datasets\\emotion\\labels\\train.cache... 208 images, 0 backgrounds, 0 corrupt: 100%|██████████| 208/208 [00:00<?, ?it/s]"
     ]
    },
    {
     "name": "stdout",
     "output_type": "stream",
     "text": [
      "\u001b[34m\u001b[1mval: \u001b[0mFast image access  (ping: 0.10.0 ms, read: 10.28.5 MB/s, size: 107.8 KB)\n"
     ]
    },
    {
     "name": "stderr",
     "output_type": "stream",
     "text": [
      "\n",
      "d:\\Anaconda Installation\\Lib\\site-packages\\torch\\utils\\data\\dataloader.py:665: UserWarning: 'pin_memory' argument is set as true but no accelerator is found, then device pinned memory won't be used.\n",
      "  warnings.warn(warn_msg)\n",
      "\u001b[34m\u001b[1mval: \u001b[0mScanning D:\\VS Code Projects\\Human-Emotion-Recognition\\datasets\\emotion\\labels\\val... 54 images, 0 backgrounds, 0 corrupt: 100%|██████████| 54/54 [00:00<00:00, 92.78it/s] "
     ]
    },
    {
     "name": "stdout",
     "output_type": "stream",
     "text": [
      "\u001b[34m\u001b[1mval: \u001b[0mD:\\VS Code Projects\\Human-Emotion-Recognition\\datasets\\emotion\\images\\val\\p24783774_b_v13_ab.jpg: corrupt JPEG restored and saved\n",
      "\u001b[34m\u001b[1mval: \u001b[0mNew cache created: D:\\VS Code Projects\\Human-Emotion-Recognition\\datasets\\emotion\\labels\\val.cache\n",
      "\u001b[34m\u001b[1moptimizer:\u001b[0m AdamW(lr=0.001, momentum=0.937) with parameter groups 57 weight(decay=0.0), 64 weight(decay=0.0005), 63 bias(decay=0.0)\n",
      "Image sizes 416 train, 416 val\n",
      "Using 0 dataloader workers\n",
      "Logging results to \u001b[1mruns\\detect\\emotion_yolov8n\u001b[0m\n",
      "Starting training for 30 epochs...\n",
      "\n",
      "      Epoch    GPU_mem   box_loss   cls_loss   dfl_loss  Instances       Size\n"
     ]
    },
    {
     "name": "stderr",
     "output_type": "stream",
     "text": [
      "\n",
      "d:\\Anaconda Installation\\Lib\\site-packages\\torch\\utils\\data\\dataloader.py:665: UserWarning: 'pin_memory' argument is set as true but no accelerator is found, then device pinned memory won't be used.\n",
      "  warnings.warn(warn_msg)\n",
      "       1/30         0G     0.4258      2.196      1.062         53        416: 100%|██████████| 13/13 [00:47<00:00,  3.67s/it]\n",
      "                 Class     Images  Instances      Box(P          R      mAP50  mAP50-95): 100%|██████████| 2/2 [00:07<00:00,  3.93s/it]"
     ]
    },
    {
     "name": "stdout",
     "output_type": "stream",
     "text": [
      "                   all         54         54     0.0813      0.675      0.312      0.165\n"
     ]
    },
    {
     "name": "stderr",
     "output_type": "stream",
     "text": [
      "\n"
     ]
    },
    {
     "name": "stdout",
     "output_type": "stream",
     "text": [
      "\n",
      "      Epoch    GPU_mem   box_loss   cls_loss   dfl_loss  Instances       Size\n"
     ]
    },
    {
     "name": "stderr",
     "output_type": "stream",
     "text": [
      "       2/30         0G     0.2618      1.659     0.9495         38        416: 100%|██████████| 13/13 [00:45<00:00,  3.47s/it]\n",
      "                 Class     Images  Instances      Box(P          R      mAP50  mAP50-95): 100%|██████████| 2/2 [00:04<00:00,  2.42s/it]"
     ]
    },
    {
     "name": "stdout",
     "output_type": "stream",
     "text": [
      "                   all         54         54     0.0443      0.812      0.107     0.0315\n"
     ]
    },
    {
     "name": "stderr",
     "output_type": "stream",
     "text": [
      "\n"
     ]
    },
    {
     "name": "stdout",
     "output_type": "stream",
     "text": [
      "\n",
      "      Epoch    GPU_mem   box_loss   cls_loss   dfl_loss  Instances       Size\n"
     ]
    },
    {
     "name": "stderr",
     "output_type": "stream",
     "text": [
      "       3/30         0G     0.2605      1.458     0.9267         54        416: 100%|██████████| 13/13 [00:51<00:00,  3.98s/it]\n",
      "                 Class     Images  Instances      Box(P          R      mAP50  mAP50-95): 100%|██████████| 2/2 [00:04<00:00,  2.28s/it]"
     ]
    },
    {
     "name": "stdout",
     "output_type": "stream",
     "text": [
      "                   all         54         54      0.104      0.317      0.255      0.142\n"
     ]
    },
    {
     "name": "stderr",
     "output_type": "stream",
     "text": [
      "\n"
     ]
    },
    {
     "name": "stdout",
     "output_type": "stream",
     "text": [
      "\n",
      "      Epoch    GPU_mem   box_loss   cls_loss   dfl_loss  Instances       Size\n"
     ]
    },
    {
     "name": "stderr",
     "output_type": "stream",
     "text": [
      "       4/30         0G     0.2921      1.359     0.9419         46        416: 100%|██████████| 13/13 [00:47<00:00,  3.64s/it]\n",
      "                 Class     Images  Instances      Box(P          R      mAP50  mAP50-95): 100%|██████████| 2/2 [00:04<00:00,  2.37s/it]"
     ]
    },
    {
     "name": "stdout",
     "output_type": "stream",
     "text": [
      "                   all         54         54      0.172      0.685      0.354      0.332\n"
     ]
    },
    {
     "name": "stderr",
     "output_type": "stream",
     "text": [
      "\n"
     ]
    },
    {
     "name": "stdout",
     "output_type": "stream",
     "text": [
      "\n",
      "      Epoch    GPU_mem   box_loss   cls_loss   dfl_loss  Instances       Size\n"
     ]
    },
    {
     "name": "stderr",
     "output_type": "stream",
     "text": [
      "       5/30         0G     0.2785      1.247     0.9394         54        416: 100%|██████████| 13/13 [00:53<00:00,  4.12s/it]\n",
      "                 Class     Images  Instances      Box(P          R      mAP50  mAP50-95): 100%|██████████| 2/2 [00:06<00:00,  3.09s/it]"
     ]
    },
    {
     "name": "stdout",
     "output_type": "stream",
     "text": [
      "                   all         54         54      0.444      0.549      0.495      0.481\n"
     ]
    },
    {
     "name": "stderr",
     "output_type": "stream",
     "text": [
      "\n"
     ]
    },
    {
     "name": "stdout",
     "output_type": "stream",
     "text": [
      "\n",
      "      Epoch    GPU_mem   box_loss   cls_loss   dfl_loss  Instances       Size\n"
     ]
    },
    {
     "name": "stderr",
     "output_type": "stream",
     "text": [
      "       6/30         0G     0.2625      1.236     0.9308         54        416:  38%|███▊      | 5/13 [00:17<00:30,  3.77s/it]"
     ]
    }
   ],
   "source": [
    "if __name__ == \"__main__\":\n",
    "    if prepare_dataset():\n",
    "        print(\"\\nStarting training process...\")\n",
    "        if train_model():\n",
    "            print(\"\\nTraining completed successfully\")\n",
    "            model = YOLO('runs/detect/emotion_yolov8n/weights/best.pt')\n",
    "            print(\"\\nModel summary:\")\n",
    "            print(model.info())\n",
    "        else:\n",
    "            print(\"\\nTraining failed\")\n",
    "    else:\n",
    "        print(\"\\nDataset preparation failed\")"
   ]
  }
 ],
 "metadata": {
  "kernelspec": {
   "display_name": "base",
   "language": "python",
   "name": "python3"
  },
  "language_info": {
   "codemirror_mode": {
    "name": "ipython",
    "version": 3
   },
   "file_extension": ".py",
   "mimetype": "text/x-python",
   "name": "python",
   "nbconvert_exporter": "python",
   "pygments_lexer": "ipython3",
   "version": "3.12.7"
  }
 },
 "nbformat": 4,
 "nbformat_minor": 5
}
