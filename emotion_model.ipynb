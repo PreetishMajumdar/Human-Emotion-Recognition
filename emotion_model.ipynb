{
 "cells": [
  {
   "cell_type": "code",
   "execution_count": 1,
   "id": "316eec8c",
   "metadata": {},
   "outputs": [
    {
     "name": "stderr",
     "output_type": "stream",
     "text": [
      "WARNING:absl:Compiled the loaded model, but the compiled metrics have yet to be built. `model.compile_metrics` will be empty until you train or evaluate the model.\n"
     ]
    },
    {
     "name": "stdout",
     "output_type": "stream",
     "text": [
      "INFO:tensorflow:Assets written to: C:\\Users\\Preetish\\AppData\\Local\\Temp\\tmpdxd1anju\\assets\n"
     ]
    },
    {
     "name": "stderr",
     "output_type": "stream",
     "text": [
      "INFO:tensorflow:Assets written to: C:\\Users\\Preetish\\AppData\\Local\\Temp\\tmpdxd1anju\\assets\n"
     ]
    },
    {
     "name": "stdout",
     "output_type": "stream",
     "text": [
      "Saved artifact at 'C:\\Users\\Preetish\\AppData\\Local\\Temp\\tmpdxd1anju'. The following endpoints are available:\n",
      "\n",
      "* Endpoint 'serve'\n",
      "  args_0 (POSITIONAL_ONLY): TensorSpec(shape=(None, 48, 48, 1), dtype=tf.float32, name='input_layer_1')\n",
      "Output Type:\n",
      "  TensorSpec(shape=(None, 7), dtype=tf.float32, name=None)\n",
      "Captures:\n",
      "  2374856884496: TensorSpec(shape=(), dtype=tf.resource, name=None)\n",
      "  2374856885264: TensorSpec(shape=(), dtype=tf.resource, name=None)\n",
      "  2374856886032: TensorSpec(shape=(), dtype=tf.resource, name=None)\n",
      "  2374856886800: TensorSpec(shape=(), dtype=tf.resource, name=None)\n",
      "  2374856884880: TensorSpec(shape=(), dtype=tf.resource, name=None)\n",
      "  2374856885456: TensorSpec(shape=(), dtype=tf.resource, name=None)\n",
      "  2374856888144: TensorSpec(shape=(), dtype=tf.resource, name=None)\n",
      "  2374856889104: TensorSpec(shape=(), dtype=tf.resource, name=None)\n",
      "  2374856888528: TensorSpec(shape=(), dtype=tf.resource, name=None)\n",
      "  2374856890448: TensorSpec(shape=(), dtype=tf.resource, name=None)\n",
      "  2374856888336: TensorSpec(shape=(), dtype=tf.resource, name=None)\n",
      "  2374856888912: TensorSpec(shape=(), dtype=tf.resource, name=None)\n",
      "  2374856889872: TensorSpec(shape=(), dtype=tf.resource, name=None)\n",
      "  2374856888720: TensorSpec(shape=(), dtype=tf.resource, name=None)\n",
      "  2374856891216: TensorSpec(shape=(), dtype=tf.resource, name=None)\n",
      "  2374856892368: TensorSpec(shape=(), dtype=tf.resource, name=None)\n",
      "  2374856891024: TensorSpec(shape=(), dtype=tf.resource, name=None)\n",
      "  2374856891792: TensorSpec(shape=(), dtype=tf.resource, name=None)\n",
      "  2374856892176: TensorSpec(shape=(), dtype=tf.resource, name=None)\n",
      "  2374856890064: TensorSpec(shape=(), dtype=tf.resource, name=None)\n",
      "  2374856891600: TensorSpec(shape=(), dtype=tf.resource, name=None)\n",
      "  2374856893520: TensorSpec(shape=(), dtype=tf.resource, name=None)\n",
      "  2374856891984: TensorSpec(shape=(), dtype=tf.resource, name=None)\n",
      "  2374856891408: TensorSpec(shape=(), dtype=tf.resource, name=None)\n",
      "  2374856894864: TensorSpec(shape=(), dtype=tf.resource, name=None)\n",
      "  2374856895632: TensorSpec(shape=(), dtype=tf.resource, name=None)\n",
      "  2374856897936: TensorSpec(shape=(), dtype=tf.resource, name=None)\n",
      "  2374856898704: TensorSpec(shape=(), dtype=tf.resource, name=None)\n"
     ]
    }
   ],
   "source": [
    "import tensorflow as tf\n",
    "\n",
    "# Load the model\n",
    "model = tf.keras.models.load_model('Models/new_best_1.h5')\n",
    "\n",
    "# Convert to TFLite\n",
    "converter = tf.lite.TFLiteConverter.from_keras_model(model)\n",
    "tflite_model = converter.convert()\n",
    "\n",
    "# Save the model\n",
    "with open('emotion_model.tflite', 'wb') as f:\n",
    "    f.write(tflite_model)\n"
   ]
  }
 ],
 "metadata": {
  "kernelspec": {
   "display_name": "base",
   "language": "python",
   "name": "python3"
  },
  "language_info": {
   "codemirror_mode": {
    "name": "ipython",
    "version": 3
   },
   "file_extension": ".py",
   "mimetype": "text/x-python",
   "name": "python",
   "nbconvert_exporter": "python",
   "pygments_lexer": "ipython3",
   "version": "3.12.7"
  }
 },
 "nbformat": 4,
 "nbformat_minor": 5
}
