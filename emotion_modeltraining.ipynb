{
 "cells": [
  {
   "cell_type": "code",
   "execution_count": 2,
   "id": "700ffb5d",
   "metadata": {},
   "outputs": [
    {
     "name": "stderr",
     "output_type": "stream",
     "text": [
      "WARNING:absl:Compiled the loaded model, but the compiled metrics have yet to be built. `model.compile_metrics` will be empty until you train or evaluate the model.\n"
     ]
    },
    {
     "name": "stdout",
     "output_type": "stream",
     "text": [
      "INFO:tensorflow:Assets written to: C:\\Users\\Preetish\\AppData\\Local\\Temp\\tmp1krde71y\\assets\n"
     ]
    },
    {
     "name": "stderr",
     "output_type": "stream",
     "text": [
      "INFO:tensorflow:Assets written to: C:\\Users\\Preetish\\AppData\\Local\\Temp\\tmp1krde71y\\assets\n"
     ]
    },
    {
     "name": "stdout",
     "output_type": "stream",
     "text": [
      "Saved artifact at 'C:\\Users\\Preetish\\AppData\\Local\\Temp\\tmp1krde71y'. The following endpoints are available:\n",
      "\n",
      "* Endpoint 'serve'\n",
      "  args_0 (POSITIONAL_ONLY): TensorSpec(shape=(None, 48, 48, 1), dtype=tf.float32, name='input_layer_1')\n",
      "Output Type:\n",
      "  TensorSpec(shape=(None, 7), dtype=tf.float32, name=None)\n",
      "Captures:\n",
      "  2682248811664: TensorSpec(shape=(), dtype=tf.resource, name=None)\n",
      "  2682248812432: TensorSpec(shape=(), dtype=tf.resource, name=None)\n",
      "  2682248813200: TensorSpec(shape=(), dtype=tf.resource, name=None)\n",
      "  2682248813968: TensorSpec(shape=(), dtype=tf.resource, name=None)\n",
      "  2682248812048: TensorSpec(shape=(), dtype=tf.resource, name=None)\n",
      "  2682248812624: TensorSpec(shape=(), dtype=tf.resource, name=None)\n",
      "  2682248815312: TensorSpec(shape=(), dtype=tf.resource, name=None)\n",
      "  2682248816272: TensorSpec(shape=(), dtype=tf.resource, name=None)\n",
      "  2682248815696: TensorSpec(shape=(), dtype=tf.resource, name=None)\n",
      "  2682248817616: TensorSpec(shape=(), dtype=tf.resource, name=None)\n",
      "  2682248815504: TensorSpec(shape=(), dtype=tf.resource, name=None)\n",
      "  2682248816080: TensorSpec(shape=(), dtype=tf.resource, name=None)\n",
      "  2682248817040: TensorSpec(shape=(), dtype=tf.resource, name=None)\n",
      "  2682248815888: TensorSpec(shape=(), dtype=tf.resource, name=None)\n",
      "  2682248818384: TensorSpec(shape=(), dtype=tf.resource, name=None)\n",
      "  2682248819536: TensorSpec(shape=(), dtype=tf.resource, name=None)\n",
      "  2682248818192: TensorSpec(shape=(), dtype=tf.resource, name=None)\n",
      "  2682248818960: TensorSpec(shape=(), dtype=tf.resource, name=None)\n",
      "  2682248819344: TensorSpec(shape=(), dtype=tf.resource, name=None)\n",
      "  2682248817232: TensorSpec(shape=(), dtype=tf.resource, name=None)\n",
      "  2682248818768: TensorSpec(shape=(), dtype=tf.resource, name=None)\n",
      "  2682248820688: TensorSpec(shape=(), dtype=tf.resource, name=None)\n",
      "  2682248819152: TensorSpec(shape=(), dtype=tf.resource, name=None)\n",
      "  2682248818576: TensorSpec(shape=(), dtype=tf.resource, name=None)\n",
      "  2682248822032: TensorSpec(shape=(), dtype=tf.resource, name=None)\n",
      "  2682248821840: TensorSpec(shape=(), dtype=tf.resource, name=None)\n",
      "  2682268436816: TensorSpec(shape=(), dtype=tf.resource, name=None)\n",
      "  2682268437584: TensorSpec(shape=(), dtype=tf.resource, name=None)\n",
      "Model converted to TensorFlow Lite successfully!\n",
      "Original model size: 1641976 bytes\n",
      "TFLite model size: 1641976 bytes\n"
     ]
    }
   ],
   "source": [
    "import tensorflow as tf\n",
    "import os\n",
    "\n",
    "# Load your trained model\n",
    "model = tf.keras.models.load_model(\"Models/new_best_1.h5\")\n",
    "\n",
    "# Convert to TensorFlow Lite\n",
    "converter = tf.lite.TFLiteConverter.from_keras_model(model)\n",
    "\n",
    "# Optional: Apply optimizations\n",
    "converter.optimizations = [tf.lite.Optimize.DEFAULT]\n",
    "\n",
    "# Convert the model\n",
    "tflite_model = converter.convert()\n",
    "\n",
    "# Save the TensorFlow Lite model\n",
    "with open('emotion_model.tflite', 'wb') as f:\n",
    "    f.write(tflite_model)\n",
    "\n",
    "print(\"Model converted to TensorFlow Lite successfully!\")\n",
    "print(f\"Original model size: {os.path.getsize('emotion_model.tflite')} bytes\")\n",
    "print(f\"TFLite model size: {len(tflite_model)} bytes\")\n"
   ]
  },
  {
   "cell_type": "code",
   "execution_count": 8,
   "id": "c6e002ba",
   "metadata": {},
   "outputs": [
    {
     "name": "stdout",
     "output_type": "stream",
     "text": [
      "INFO:tensorflow:Assets written to: C:\\Users\\Preetish\\AppData\\Local\\Temp\\tmpk18tync1\\assets\n"
     ]
    },
    {
     "name": "stderr",
     "output_type": "stream",
     "text": [
      "INFO:tensorflow:Assets written to: C:\\Users\\Preetish\\AppData\\Local\\Temp\\tmpk18tync1\\assets\n"
     ]
    },
    {
     "name": "stdout",
     "output_type": "stream",
     "text": [
      "Saved artifact at 'C:\\Users\\Preetish\\AppData\\Local\\Temp\\tmpk18tync1'. The following endpoints are available:\n",
      "\n",
      "* Endpoint 'serve'\n",
      "  args_0 (POSITIONAL_ONLY): TensorSpec(shape=(None, 48, 48, 1), dtype=tf.float32, name='input_layer_1')\n",
      "Output Type:\n",
      "  TensorSpec(shape=(None, 7), dtype=tf.float32, name=None)\n",
      "Captures:\n",
      "  2682248811664: TensorSpec(shape=(), dtype=tf.resource, name=None)\n",
      "  2682248812432: TensorSpec(shape=(), dtype=tf.resource, name=None)\n",
      "  2682248813200: TensorSpec(shape=(), dtype=tf.resource, name=None)\n",
      "  2682248813968: TensorSpec(shape=(), dtype=tf.resource, name=None)\n",
      "  2682248812048: TensorSpec(shape=(), dtype=tf.resource, name=None)\n",
      "  2682248812624: TensorSpec(shape=(), dtype=tf.resource, name=None)\n",
      "  2682248815312: TensorSpec(shape=(), dtype=tf.resource, name=None)\n",
      "  2682248816272: TensorSpec(shape=(), dtype=tf.resource, name=None)\n",
      "  2682248815696: TensorSpec(shape=(), dtype=tf.resource, name=None)\n",
      "  2682248817616: TensorSpec(shape=(), dtype=tf.resource, name=None)\n",
      "  2682248815504: TensorSpec(shape=(), dtype=tf.resource, name=None)\n",
      "  2682248816080: TensorSpec(shape=(), dtype=tf.resource, name=None)\n",
      "  2682248817040: TensorSpec(shape=(), dtype=tf.resource, name=None)\n",
      "  2682248815888: TensorSpec(shape=(), dtype=tf.resource, name=None)\n",
      "  2682248818384: TensorSpec(shape=(), dtype=tf.resource, name=None)\n",
      "  2682248819536: TensorSpec(shape=(), dtype=tf.resource, name=None)\n",
      "  2682248818192: TensorSpec(shape=(), dtype=tf.resource, name=None)\n",
      "  2682248818960: TensorSpec(shape=(), dtype=tf.resource, name=None)\n",
      "  2682248819344: TensorSpec(shape=(), dtype=tf.resource, name=None)\n",
      "  2682248817232: TensorSpec(shape=(), dtype=tf.resource, name=None)\n",
      "  2682248818768: TensorSpec(shape=(), dtype=tf.resource, name=None)\n",
      "  2682248820688: TensorSpec(shape=(), dtype=tf.resource, name=None)\n",
      "  2682248819152: TensorSpec(shape=(), dtype=tf.resource, name=None)\n",
      "  2682248818576: TensorSpec(shape=(), dtype=tf.resource, name=None)\n",
      "  2682248822032: TensorSpec(shape=(), dtype=tf.resource, name=None)\n",
      "  2682248821840: TensorSpec(shape=(), dtype=tf.resource, name=None)\n",
      "  2682268436816: TensorSpec(shape=(), dtype=tf.resource, name=None)\n",
      "  2682268437584: TensorSpec(shape=(), dtype=tf.resource, name=None)\n"
     ]
    }
   ],
   "source": [
    "import tensorflow as tf\n",
    "import os\n",
    "\n",
    "converter = tf.lite.TFLiteConverter.from_keras_model(model)\n",
    "converter.target_spec.supported_ops = [\n",
    "    tf.lite.OpsSet.TFLITE_BUILTINS\n",
    "]\n",
    "tflite_model = converter.convert()\n",
    "\n",
    "# Save it\n",
    "with open('model.tflite', 'wb') as f:\n",
    "    f.write(tflite_model)\n"
   ]
  }
 ],
 "metadata": {
  "kernelspec": {
   "display_name": "base",
   "language": "python",
   "name": "python3"
  },
  "language_info": {
   "codemirror_mode": {
    "name": "ipython",
    "version": 3
   },
   "file_extension": ".py",
   "mimetype": "text/x-python",
   "name": "python",
   "nbconvert_exporter": "python",
   "pygments_lexer": "ipython3",
   "version": "3.12.7"
  }
 },
 "nbformat": 4,
 "nbformat_minor": 5
}
